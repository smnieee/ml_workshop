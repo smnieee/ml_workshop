{
 "cells": [
  {
   "cell_type": "markdown",
   "metadata": {},
   "source": [
    "# References\n",
    "\n",
    "## Pages\n",
    "\n",
    "1. [Logistic Regression Introduction](1.%20Logistic%20Regression.ipynb)\n",
    "2. [Logistic Regression Implementation](2.%20Logistic%20Regression%20Implementation.ipynb)\n",
    "3. [Bias - Variance Tradeoff](3.%20Bias%20-%20Variance%20Tradeoff.ipynb)\n",
    "4. [Penalized Regression](4.%20Penalized%20Regression.ipynb)\n",
    "\n",
    "\n",
    "## Links\n",
    "\n",
    "https://en.wikipedia.org/wiki/Logistic_regression\n",
    "\n",
    "http://archive.ics.uci.edu/ml/index.php\n",
    "\n",
    "https://github.com/susanli2016/Machine-Learning-with-Python/blob/master/Logistic%20Regression%20balanced.ipynb\n",
    "\n",
    "https://www.analyticsvidhya.com/blog/2016/01/complete-tutorial-ridge-lasso-regression-python/\n",
    "\n",
    "https://towardsdatascience.com/ridge-and-lasso-regression-a-complete-guide-with-python-scikit-learn-e20e34bcbf0b\n",
    "\n",
    "https://www.datacamp.com/community/tutorials/essentials-linear-regression-python\n",
    "\n",
    "https://www.datacamp.com/community/tutorials/towards-preventing-overfitting-regularization"
   ]
  },
  {
   "cell_type": "code",
   "execution_count": null,
   "metadata": {},
   "outputs": [],
   "source": []
  }
 ],
 "metadata": {
  "kernelspec": {
   "display_name": "Python 3",
   "language": "python",
   "name": "python3"
  },
  "language_info": {
   "codemirror_mode": {
    "name": "ipython",
    "version": 3
   },
   "file_extension": ".py",
   "mimetype": "text/x-python",
   "name": "python",
   "nbconvert_exporter": "python",
   "pygments_lexer": "ipython3",
   "version": "3.6.5"
  }
 },
 "nbformat": 4,
 "nbformat_minor": 2
}
