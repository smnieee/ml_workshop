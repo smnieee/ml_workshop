{
 "cells": [
  {
   "cell_type": "markdown",
   "metadata": {},
   "source": [
    "# The Bias / Variance Problem\n",
    "When constructing machine learning models, one of the problems that we face is call the bias / variance problem.  In essence, these two properties of the data/model are at odds.  The key is to balance the two of them.  This notebook steps through the bias/variance problem"
   ]
  },
  {
   "cell_type": "code",
   "execution_count": null,
   "metadata": {
    "collapsed": true
   },
   "outputs": [],
   "source": [
    "import numpy as np\n",
    "import matplotlib.pyplot as plt\n",
    "\n",
    "import pandas as pd\n",
    "import random\n",
    "\n",
    "from sklearn.linear_model import LinearRegression\n",
    "from matplotlib.pylab import rcParams"
   ]
  },
  {
   "cell_type": "code",
   "execution_count": null,
   "metadata": {
    "collapsed": true
   },
   "outputs": [],
   "source": [
    "# Parameter to draw pretty pictures\n",
    "rcParams['figure.figsize'] = 12, 10"
   ]
  },
  {
   "cell_type": "markdown",
   "metadata": {},
   "source": [
    "### Accuracy and Precision\n",
    "It is likely that you have run into the terms accuracy and precision before.  This is often presented as an infographic with bullseyes on it.\n",
    "\n",
    "__Accuracy__:  how close can you get to the true answer\n",
    "\n",
    "__Precision__:  how repeatable are your attempts\n",
    "\n",
    "<img src=\"./AccuracyPrecision.png\">\n",
    "\n",
    "It is worth our time to explore this a little bit interactively."
   ]
  },
  {
   "cell_type": "code",
   "execution_count": null,
   "metadata": {
    "collapsed": true
   },
   "outputs": [],
   "source": [
    "# First, some functions for drawing it.\n",
    "def bullseye(ax,withData=None):\n",
    "    a = 3       # radius 0 to >a\n",
    "    b = 5       # radius a to >b\n",
    "    c = 7       # radius b to c\n",
    "    d = 9       # radius b to c\n",
    "\n",
    "    circle4 = plt.Circle((0, 0), d, color='red')\n",
    "    circle3 = plt.Circle((0, 0), c, color='white')\n",
    "    circle2 = plt.Circle((0, 0), b, color='red')\n",
    "    circle1 = plt.Circle((0, 0), a, color='white')\n",
    "\n",
    "    ax.add_artist(circle4)\n",
    "    ax.add_artist(circle3)\n",
    "    ax.add_artist(circle2)\n",
    "    ax.add_artist(circle1)\n",
    "\n",
    "    if withData is not None:\n",
    "        ax.scatter(withData[:,0], withData[:,1],zorder=4)\n",
    "\n",
    "\n",
    "    ax.axis([-22, 22, -22, 22])\n",
    "    \n",
    "def shotgun(nPts,bias,variance):\n",
    "    return np.random.normal(bias,variance,[nPts,2])\n"
   ]
  },
  {
   "cell_type": "code",
   "execution_count": null,
   "metadata": {},
   "outputs": [],
   "source": [
    "numPts = 50;\n",
    "# For each pair of the blank areas ________,  insert a low value and a high value.\n",
    "# Use the range of 1 to 10 for both\n",
    "accuracy = [________,________]\n",
    "precision = [________,________]\n",
    "\n",
    "fig, ax = plt.subplots(2,2)\n",
    "bullseye(ax[0, 0],shotgun(numPts,accuracy[0],precision[0]))\n",
    "bullseye(ax[0, 1],shotgun(numPts,accuracy[0],precision[1]))\n",
    "bullseye(ax[1, 0],shotgun(numPts,accuracy[1],precision[0]))\n",
    "bullseye(ax[1, 1],shotgun(numPts,accuracy[1],precision[1]))\n",
    "\n",
    "ax[0,0].set_title(\"High Precision\")\n",
    "ax[0,1].set_title(\"Low Precision\")\n",
    "\n",
    "ax[0,0].set_ylabel(\"High Accuracy\")\n",
    "ax[1,0].set_ylabel(\"Low Accuracy\")\n",
    "\n",
    "plt.show()"
   ]
  },
  {
   "cell_type": "markdown",
   "metadata": {
    "collapsed": true
   },
   "source": [
    "<font color='red'>\n",
    "# There are two things to think about here:\n",
    "\n",
    "1. How might you address low accuracy and low precision?\n",
    "   \n",
    "2. Think about the \"low\" number and \"high\" number that you have entered.  \n",
    "   Does a \"low\" number correspond to a \"low\" accuracy or \"low\" precision?\n",
    "  \n",
    "  "
   ]
  },
  {
   "cell_type": "markdown",
   "metadata": {},
   "source": [
    "### Bias and Variance\n",
    "\n",
    "Bias and variance are the mathematical properties that impact accuracy and precision.  The relationship is an inverse relationship:\n",
    "\n",
    "$\\uparrow Bias \\sim \\downarrow Accuracy$\n",
    "\n",
    "$\\uparrow Variance \\sim \\downarrow Precision$\n",
    "\n",
    "Unfortunately, in the field of machine learning, __Bias__ and __Variance__ are linked to each other, so there is always a tradeoff between these two factors.\n",
    "\n",
    "#### Linear regression\n",
    "\n",
    "Under ideal conditions\n",
    "\n",
    "$\\bar{y} = m*x + b$\n",
    "\n",
    "In the real-world, we have noise:\n",
    "\n",
    "$\\bar{y} = m*x + b + \\epsilon$\n",
    "\n",
    "where\n",
    "\n",
    "$\\epsilon \\sim N(\\mu,\\sigma^2)$\n",
    "\n",
    "The function $N$ is the normal distribution function which we don't need to know the details for, but $\\mu$ and $\\sigma$ are important:\n",
    "\n",
    "$\\mu$:  When you were adjusting values to change the accuracy, you were changing the bias.  $\\mu$ represents the bias in the noise.\n",
    "\n",
    "$\\sigma$:  When you were adjusting values to change the precision, you were changing the variance.  $\\sigma$ represents the variance in the noise.\n",
    "\n",
    "When we are building our linear regression *(under ideal conditions)*, we create the model with this error metric:\n",
    "\n",
    "$mse = \\frac{1}{N} \\sum{( y_i - \\bar{y}(x_i) )^2}$\n",
    "\n",
    "The expanded form of this is:\n",
    "\n",
    "$mse = \\frac{1}{N} \\sum{(y_i - (m*x_i + b))^2}$\n",
    "\n",
    "Now we have noise, so we have:\n",
    "\n",
    "$mse = \\frac{1}{N} \\sum{(y_i - (m*x_i + b + \\epsilon))^2}$\n",
    "\n",
    "Let's look at the real-world implication of this."
   ]
  },
  {
   "cell_type": "markdown",
   "metadata": {},
   "source": [
    "# Implications for model development\n",
    "We recognize there are problems of bias and variance.  What does that look like when you create a model?"
   ]
  },
  {
   "cell_type": "code",
   "execution_count": null,
   "metadata": {
    "collapsed": true
   },
   "outputs": [],
   "source": [
    "#  We are going to define some functions to make life easier to demonstrate\n",
    "\n",
    "# Our synthetic data is Dave's mental well-being as predicted by the number of boys that his daughters dates\n",
    "def Daves_Daughters_Dates():\n",
    "    x = np.array([i*np.pi/180 for i in range(60,300,4)])\n",
    "    np.random.seed(10)  #Setting seed for reproducability\n",
    "    y = np.sin(x) + np.random.normal(0,0.15,len(x))\n",
    "    data = pd.DataFrame(np.column_stack([x,y]),columns=['x','y'])\n",
    "    return data\n",
    "\n",
    "# This is the call to linear regression with some nice window dressing around it.\n",
    "def linear_regression(data, power, models_to_plot):\n",
    "    #initialize predictors:\n",
    "    predictors=['x']\n",
    "    if power>=2:\n",
    "        predictors.extend(['x_%d'%i for i in range(2,power+1)])\n",
    "    \n",
    "    #Fit the model\n",
    "    linreg = LinearRegression(normalize=True)\n",
    "    linreg.fit(data[predictors],data['y'])\n",
    "    y_pred = linreg.predict(data[predictors])\n",
    "    \n",
    "    #Check if a plot is to be made for the entered power\n",
    "    if power in models_to_plot:\n",
    "        plt.subplot(models_to_plot[power])\n",
    "        plt.tight_layout()\n",
    "        plt.plot(data['x'],y_pred)\n",
    "        plt.plot(data['x'],data['y'],'.')\n",
    "        plt.title('Plot for power: %d'%power)\n",
    "    \n",
    "    #Return the result in pre-defined format\n",
    "    rss = sum((y_pred-data['y'])**2)\n",
    "    ret = [rss]\n",
    "    ret.extend([linreg.intercept_])\n",
    "    ret.extend(linreg.coef_)\n",
    "    return ret"
   ]
  },
  {
   "cell_type": "code",
   "execution_count": null,
   "metadata": {},
   "outputs": [],
   "source": [
    "data = Daves_Daughters_Dates()\n",
    "plt.plot(data['x'],data['y'],'.')\n",
    "plt.title('Number of boys dated vs Daves well-being')"
   ]
  },
  {
   "cell_type": "code",
   "execution_count": null,
   "metadata": {},
   "outputs": [],
   "source": [
    "# Prep the data ... more complex models as the power goes up\n",
    "for i in range(2,16):  #power of 1 is already there\n",
    "    colname = 'x_%d'%i      #new var will be x_power\n",
    "    data[colname] = data['x']**i\n",
    "\n",
    "#Initialize a dataframe to store the results:\n",
    "col = ['rss','intercept'] + ['coef_x_%d'%i for i in range(1,16)]\n",
    "ind = ['model_pow_%d'%i for i in range(1,16)]\n",
    "coef_matrix_simple = pd.DataFrame(index=ind, columns=col)\n",
    "\n",
    "#Define the powers for which a plot is required:\n",
    "models_to_plot = {1:231,3:232,6:233,9:234,12:235,15:236}\n",
    "\n",
    "#Iterate through all powers and assimilate results\n",
    "for i in range(1,16):\n",
    "    coef_matrix_simple.iloc[i-1,0:i+2] = linear_regression(data, power=i, models_to_plot=models_to_plot)"
   ]
  },
  {
   "cell_type": "markdown",
   "metadata": {},
   "source": [
    "<font color='red'>\n",
    "## What do we observe as the model gets more complex?"
   ]
  },
  {
   "cell_type": "code",
   "execution_count": null,
   "metadata": {},
   "outputs": [],
   "source": [
    "# Yes, this is a terrible table to look at, but necessary to understand\n",
    "\n",
    "#Set the display format to be scientific for ease of analysis\n",
    "pd.options.display.float_format = '{:,.2g}'.format\n",
    "coef_matrix_simple"
   ]
  },
  {
   "cell_type": "markdown",
   "metadata": {},
   "source": [
    "#### Observation\n",
    "* As the model gets more complex, there are more model coefficients that are fitted; however, they are also getting larger and larger.\n",
    "* As we get closer and closer to perfectly fitting the data, the more that we are fitting to the noise rather than the signal."
   ]
  }
 ],
 "metadata": {
  "kernelspec": {
   "display_name": "Python 3",
   "language": "python",
   "name": "python3"
  },
  "language_info": {
   "codemirror_mode": {
    "name": "ipython",
    "version": 3
   },
   "file_extension": ".py",
   "mimetype": "text/x-python",
   "name": "python",
   "nbconvert_exporter": "python",
   "pygments_lexer": "ipython3",
   "version": "3.6.5"
  }
 },
 "nbformat": 4,
 "nbformat_minor": 2
}
