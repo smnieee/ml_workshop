{
  "nbformat": 4,
  "nbformat_minor": 0,
  "metadata": {
    "colab": {
      "name": "0_Introduction.ipynb",
      "provenance": [],
      "collapsed_sections": []
    },
    "kernelspec": {
      "name": "python3",
      "display_name": "Python 3"
    }
  },
  "cells": [
    {
      "cell_type": "markdown",
      "metadata": {
        "id": "3tJ3ytIHTPr4"
      },
      "source": [
        "# ML Workshop Session 3: Advanced Topics in Supervised Learning\n",
        "---\n",
        "\n",
        "## Introduction\n",
        "This machine learning workshop will build on our prior workshops. We will cover additional topics in supervised learning. From a design perspective, we will discuss splitting data into testing, training, and validation sets. This is critical to properly fitting the learning algorithms to the data. We will also discuss problems that may arise, such as over fitting to the data. Join us as we expand into practical considerations for implementation of supervised learning algorithms.\n"
      ]
    },
    {
      "cell_type": "markdown",
      "metadata": {
        "id": "iaEqbIEqAF0G"
      },
      "source": [
        "# Background\n",
        "---\n",
        "\n",
        "In the last workshop, we covered logistic regression and penalized regression. Part the that work included separating the data into a training set and a testing set. \n",
        "\n",
        "The training set was used to fit the hyperparameters of the model to the data. The testing set was then used to calculate the error in the model. This lead to a loop over epochs where the model fit was refined and the error remeasured until a sufficient fit was achieved.\n",
        "\n",
        "Now, we want to look at the iterative approach to fitting more rigorously. This includes another collection of data points, referred to as the validation set.\n",
        "\n",
        "The validation set will be used to assess how well our model predicts the results of new data being given to it.\n",
        "\n",
        "## Prior Workshops\n",
        "1. [Session 1]()\n",
        "2. [Session 2]()"
      ]
    },
    {
      "cell_type": "markdown",
      "metadata": {
        "id": "M-jl-L0Q_bEA"
      },
      "source": [
        "# Setup\n",
        "---\n",
        "\n",
        "## Dataset\n",
        "\n",
        "https://archive.ics.uci.edu/ml/datasets/Communities+and+Crime+Unnormalized\n",
        "\n",
        "Download [CommViolPredUnnormalizedData.txt](https://archive.ics.uci.edu/ml/machine-learning-databases/00211/CommViolPredUnnormalizedData.txt)\n",
        "\n",
        "## Upload to Runtime"
      ]
    }
  ]
}