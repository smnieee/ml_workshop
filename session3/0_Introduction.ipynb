{
  "nbformat": 4,
  "nbformat_minor": 0,
  "metadata": {
    "colab": {
      "name": "0 - Introduction.ipynb",
      "provenance": [],
      "collapsed_sections": []
    },
    "kernelspec": {
      "name": "python3",
      "display_name": "Python 3"
    }
  },
  "cells": [
    {
      "cell_type": "markdown",
      "metadata": {
        "id": "3tJ3ytIHTPr4"
      },
      "source": [
        "# ML Workshop Session 3: Advanced Topics in Supervised Learning\n",
        "\n",
        "\n",
        "1.   Training, Testing, and Validation\n",
        "2.   Overfitting\n",
        "\n",
        "## Introduction\n",
        "This machine learning workshop will build on our prior workshops. We will cover additional topics in supervised learning. From a design perspective, we will discuss splitting data into testing, training, and validation sets. This is critical to properly fitting the learning algorithms to the data. We will also discuss problems that may arise, such as over fitting to the data. Join us as we expand into practical considerations for implementation of supervised learning algorithms.\n",
        "\n",
        "## Background\n",
        "\n",
        "\n"
      ]
    }
  ]
}