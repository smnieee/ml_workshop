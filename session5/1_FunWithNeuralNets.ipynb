{
  "nbformat": 4,
  "nbformat_minor": 0,
  "metadata": {
    "colab": {
      "name": "1_FunWithNeuralNets.ipynb",
      "provenance": [],
      "authorship_tag": "ABX9TyNDdwxGWhtNl5WSgLNU6wgK",
      "include_colab_link": true
    },
    "kernelspec": {
      "name": "python3",
      "display_name": "Python 3"
    },
    "language_info": {
      "name": "python"
    }
  },
  "cells": [
    {
      "cell_type": "markdown",
      "metadata": {
        "id": "view-in-github",
        "colab_type": "text"
      },
      "source": [
        "<a href=\"https://colab.research.google.com/github/smnieee/ml_workshop/blob/master/session5/1_FunWithNeuralNets.ipynb\" target=\"_parent\"><img src=\"https://colab.research.google.com/assets/colab-badge.svg\" alt=\"Open In Colab\"/></a>"
      ]
    },
    {
      "cell_type": "markdown",
      "source": [
        "# Fun with Neural Networks\n",
        "\n",
        "---\n",
        "\n",
        "## Southern Minnesota IEEE: Machine Learning Workshop 5\n",
        "## May 16, 2022"
      ],
      "metadata": {
        "id": "-UKn9qgl30D2"
      }
    },
    {
      "cell_type": "code",
      "source": [
        "import numpy as np\n",
        "import matplotlib.pyplot as plt\n",
        "\n",
        "import tensorflow as tf\n",
        "from tensorflow import keras\n",
        "from keras import layers"
      ],
      "metadata": {
        "id": "Log2GKaW5_nC"
      },
      "execution_count": 80,
      "outputs": []
    },
    {
      "cell_type": "markdown",
      "source": [
        "## Simple Perceptron Example (Classification)\n",
        "\n",
        "The perceptron is the basic unit of the neural network. It takes multiple inputs and produces one output. The inputs are adjusted with weights, $w$, and biases, $b$. The output is a result of an activation function being applied to the sum of the adjusted inputs."
      ],
      "metadata": {
        "id": "qd-xcjyQf66G"
      }
    },
    {
      "cell_type": "code",
      "source": [
        "from sklearn.datasets import load_iris\n",
        "from sklearn.linear_model import Perceptron"
      ],
      "metadata": {
        "id": "5bynavb6ZMwd"
      },
      "execution_count": 81,
      "outputs": []
    },
    {
      "cell_type": "code",
      "source": [
        "# Load data and view them\n",
        "iris = load_iris()\n",
        "\n",
        "iris"
      ],
      "metadata": {
        "colab": {
          "base_uri": "https://localhost:8080/"
        },
        "id": "biUXKSXMo021",
        "outputId": "72b7985b-badd-4da2-96f1-7505ed587818"
      },
      "execution_count": 82,
      "outputs": [
        {
          "output_type": "execute_result",
          "data": {
            "text/plain": [
              "{'DESCR': '.. _iris_dataset:\\n\\nIris plants dataset\\n--------------------\\n\\n**Data Set Characteristics:**\\n\\n    :Number of Instances: 150 (50 in each of three classes)\\n    :Number of Attributes: 4 numeric, predictive attributes and the class\\n    :Attribute Information:\\n        - sepal length in cm\\n        - sepal width in cm\\n        - petal length in cm\\n        - petal width in cm\\n        - class:\\n                - Iris-Setosa\\n                - Iris-Versicolour\\n                - Iris-Virginica\\n                \\n    :Summary Statistics:\\n\\n    ============== ==== ==== ======= ===== ====================\\n                    Min  Max   Mean    SD   Class Correlation\\n    ============== ==== ==== ======= ===== ====================\\n    sepal length:   4.3  7.9   5.84   0.83    0.7826\\n    sepal width:    2.0  4.4   3.05   0.43   -0.4194\\n    petal length:   1.0  6.9   3.76   1.76    0.9490  (high!)\\n    petal width:    0.1  2.5   1.20   0.76    0.9565  (high!)\\n    ============== ==== ==== ======= ===== ====================\\n\\n    :Missing Attribute Values: None\\n    :Class Distribution: 33.3% for each of 3 classes.\\n    :Creator: R.A. Fisher\\n    :Donor: Michael Marshall (MARSHALL%PLU@io.arc.nasa.gov)\\n    :Date: July, 1988\\n\\nThe famous Iris database, first used by Sir R.A. Fisher. The dataset is taken\\nfrom Fisher\\'s paper. Note that it\\'s the same as in R, but not as in the UCI\\nMachine Learning Repository, which has two wrong data points.\\n\\nThis is perhaps the best known database to be found in the\\npattern recognition literature.  Fisher\\'s paper is a classic in the field and\\nis referenced frequently to this day.  (See Duda & Hart, for example.)  The\\ndata set contains 3 classes of 50 instances each, where each class refers to a\\ntype of iris plant.  One class is linearly separable from the other 2; the\\nlatter are NOT linearly separable from each other.\\n\\n.. topic:: References\\n\\n   - Fisher, R.A. \"The use of multiple measurements in taxonomic problems\"\\n     Annual Eugenics, 7, Part II, 179-188 (1936); also in \"Contributions to\\n     Mathematical Statistics\" (John Wiley, NY, 1950).\\n   - Duda, R.O., & Hart, P.E. (1973) Pattern Classification and Scene Analysis.\\n     (Q327.D83) John Wiley & Sons.  ISBN 0-471-22361-1.  See page 218.\\n   - Dasarathy, B.V. (1980) \"Nosing Around the Neighborhood: A New System\\n     Structure and Classification Rule for Recognition in Partially Exposed\\n     Environments\".  IEEE Transactions on Pattern Analysis and Machine\\n     Intelligence, Vol. PAMI-2, No. 1, 67-71.\\n   - Gates, G.W. (1972) \"The Reduced Nearest Neighbor Rule\".  IEEE Transactions\\n     on Information Theory, May 1972, 431-433.\\n   - See also: 1988 MLC Proceedings, 54-64.  Cheeseman et al\"s AUTOCLASS II\\n     conceptual clustering system finds 3 classes in the data.\\n   - Many, many more ...',\n",
              " 'data': array([[5.1, 3.5, 1.4, 0.2],\n",
              "        [4.9, 3. , 1.4, 0.2],\n",
              "        [4.7, 3.2, 1.3, 0.2],\n",
              "        [4.6, 3.1, 1.5, 0.2],\n",
              "        [5. , 3.6, 1.4, 0.2],\n",
              "        [5.4, 3.9, 1.7, 0.4],\n",
              "        [4.6, 3.4, 1.4, 0.3],\n",
              "        [5. , 3.4, 1.5, 0.2],\n",
              "        [4.4, 2.9, 1.4, 0.2],\n",
              "        [4.9, 3.1, 1.5, 0.1],\n",
              "        [5.4, 3.7, 1.5, 0.2],\n",
              "        [4.8, 3.4, 1.6, 0.2],\n",
              "        [4.8, 3. , 1.4, 0.1],\n",
              "        [4.3, 3. , 1.1, 0.1],\n",
              "        [5.8, 4. , 1.2, 0.2],\n",
              "        [5.7, 4.4, 1.5, 0.4],\n",
              "        [5.4, 3.9, 1.3, 0.4],\n",
              "        [5.1, 3.5, 1.4, 0.3],\n",
              "        [5.7, 3.8, 1.7, 0.3],\n",
              "        [5.1, 3.8, 1.5, 0.3],\n",
              "        [5.4, 3.4, 1.7, 0.2],\n",
              "        [5.1, 3.7, 1.5, 0.4],\n",
              "        [4.6, 3.6, 1. , 0.2],\n",
              "        [5.1, 3.3, 1.7, 0.5],\n",
              "        [4.8, 3.4, 1.9, 0.2],\n",
              "        [5. , 3. , 1.6, 0.2],\n",
              "        [5. , 3.4, 1.6, 0.4],\n",
              "        [5.2, 3.5, 1.5, 0.2],\n",
              "        [5.2, 3.4, 1.4, 0.2],\n",
              "        [4.7, 3.2, 1.6, 0.2],\n",
              "        [4.8, 3.1, 1.6, 0.2],\n",
              "        [5.4, 3.4, 1.5, 0.4],\n",
              "        [5.2, 4.1, 1.5, 0.1],\n",
              "        [5.5, 4.2, 1.4, 0.2],\n",
              "        [4.9, 3.1, 1.5, 0.2],\n",
              "        [5. , 3.2, 1.2, 0.2],\n",
              "        [5.5, 3.5, 1.3, 0.2],\n",
              "        [4.9, 3.6, 1.4, 0.1],\n",
              "        [4.4, 3. , 1.3, 0.2],\n",
              "        [5.1, 3.4, 1.5, 0.2],\n",
              "        [5. , 3.5, 1.3, 0.3],\n",
              "        [4.5, 2.3, 1.3, 0.3],\n",
              "        [4.4, 3.2, 1.3, 0.2],\n",
              "        [5. , 3.5, 1.6, 0.6],\n",
              "        [5.1, 3.8, 1.9, 0.4],\n",
              "        [4.8, 3. , 1.4, 0.3],\n",
              "        [5.1, 3.8, 1.6, 0.2],\n",
              "        [4.6, 3.2, 1.4, 0.2],\n",
              "        [5.3, 3.7, 1.5, 0.2],\n",
              "        [5. , 3.3, 1.4, 0.2],\n",
              "        [7. , 3.2, 4.7, 1.4],\n",
              "        [6.4, 3.2, 4.5, 1.5],\n",
              "        [6.9, 3.1, 4.9, 1.5],\n",
              "        [5.5, 2.3, 4. , 1.3],\n",
              "        [6.5, 2.8, 4.6, 1.5],\n",
              "        [5.7, 2.8, 4.5, 1.3],\n",
              "        [6.3, 3.3, 4.7, 1.6],\n",
              "        [4.9, 2.4, 3.3, 1. ],\n",
              "        [6.6, 2.9, 4.6, 1.3],\n",
              "        [5.2, 2.7, 3.9, 1.4],\n",
              "        [5. , 2. , 3.5, 1. ],\n",
              "        [5.9, 3. , 4.2, 1.5],\n",
              "        [6. , 2.2, 4. , 1. ],\n",
              "        [6.1, 2.9, 4.7, 1.4],\n",
              "        [5.6, 2.9, 3.6, 1.3],\n",
              "        [6.7, 3.1, 4.4, 1.4],\n",
              "        [5.6, 3. , 4.5, 1.5],\n",
              "        [5.8, 2.7, 4.1, 1. ],\n",
              "        [6.2, 2.2, 4.5, 1.5],\n",
              "        [5.6, 2.5, 3.9, 1.1],\n",
              "        [5.9, 3.2, 4.8, 1.8],\n",
              "        [6.1, 2.8, 4. , 1.3],\n",
              "        [6.3, 2.5, 4.9, 1.5],\n",
              "        [6.1, 2.8, 4.7, 1.2],\n",
              "        [6.4, 2.9, 4.3, 1.3],\n",
              "        [6.6, 3. , 4.4, 1.4],\n",
              "        [6.8, 2.8, 4.8, 1.4],\n",
              "        [6.7, 3. , 5. , 1.7],\n",
              "        [6. , 2.9, 4.5, 1.5],\n",
              "        [5.7, 2.6, 3.5, 1. ],\n",
              "        [5.5, 2.4, 3.8, 1.1],\n",
              "        [5.5, 2.4, 3.7, 1. ],\n",
              "        [5.8, 2.7, 3.9, 1.2],\n",
              "        [6. , 2.7, 5.1, 1.6],\n",
              "        [5.4, 3. , 4.5, 1.5],\n",
              "        [6. , 3.4, 4.5, 1.6],\n",
              "        [6.7, 3.1, 4.7, 1.5],\n",
              "        [6.3, 2.3, 4.4, 1.3],\n",
              "        [5.6, 3. , 4.1, 1.3],\n",
              "        [5.5, 2.5, 4. , 1.3],\n",
              "        [5.5, 2.6, 4.4, 1.2],\n",
              "        [6.1, 3. , 4.6, 1.4],\n",
              "        [5.8, 2.6, 4. , 1.2],\n",
              "        [5. , 2.3, 3.3, 1. ],\n",
              "        [5.6, 2.7, 4.2, 1.3],\n",
              "        [5.7, 3. , 4.2, 1.2],\n",
              "        [5.7, 2.9, 4.2, 1.3],\n",
              "        [6.2, 2.9, 4.3, 1.3],\n",
              "        [5.1, 2.5, 3. , 1.1],\n",
              "        [5.7, 2.8, 4.1, 1.3],\n",
              "        [6.3, 3.3, 6. , 2.5],\n",
              "        [5.8, 2.7, 5.1, 1.9],\n",
              "        [7.1, 3. , 5.9, 2.1],\n",
              "        [6.3, 2.9, 5.6, 1.8],\n",
              "        [6.5, 3. , 5.8, 2.2],\n",
              "        [7.6, 3. , 6.6, 2.1],\n",
              "        [4.9, 2.5, 4.5, 1.7],\n",
              "        [7.3, 2.9, 6.3, 1.8],\n",
              "        [6.7, 2.5, 5.8, 1.8],\n",
              "        [7.2, 3.6, 6.1, 2.5],\n",
              "        [6.5, 3.2, 5.1, 2. ],\n",
              "        [6.4, 2.7, 5.3, 1.9],\n",
              "        [6.8, 3. , 5.5, 2.1],\n",
              "        [5.7, 2.5, 5. , 2. ],\n",
              "        [5.8, 2.8, 5.1, 2.4],\n",
              "        [6.4, 3.2, 5.3, 2.3],\n",
              "        [6.5, 3. , 5.5, 1.8],\n",
              "        [7.7, 3.8, 6.7, 2.2],\n",
              "        [7.7, 2.6, 6.9, 2.3],\n",
              "        [6. , 2.2, 5. , 1.5],\n",
              "        [6.9, 3.2, 5.7, 2.3],\n",
              "        [5.6, 2.8, 4.9, 2. ],\n",
              "        [7.7, 2.8, 6.7, 2. ],\n",
              "        [6.3, 2.7, 4.9, 1.8],\n",
              "        [6.7, 3.3, 5.7, 2.1],\n",
              "        [7.2, 3.2, 6. , 1.8],\n",
              "        [6.2, 2.8, 4.8, 1.8],\n",
              "        [6.1, 3. , 4.9, 1.8],\n",
              "        [6.4, 2.8, 5.6, 2.1],\n",
              "        [7.2, 3. , 5.8, 1.6],\n",
              "        [7.4, 2.8, 6.1, 1.9],\n",
              "        [7.9, 3.8, 6.4, 2. ],\n",
              "        [6.4, 2.8, 5.6, 2.2],\n",
              "        [6.3, 2.8, 5.1, 1.5],\n",
              "        [6.1, 2.6, 5.6, 1.4],\n",
              "        [7.7, 3. , 6.1, 2.3],\n",
              "        [6.3, 3.4, 5.6, 2.4],\n",
              "        [6.4, 3.1, 5.5, 1.8],\n",
              "        [6. , 3. , 4.8, 1.8],\n",
              "        [6.9, 3.1, 5.4, 2.1],\n",
              "        [6.7, 3.1, 5.6, 2.4],\n",
              "        [6.9, 3.1, 5.1, 2.3],\n",
              "        [5.8, 2.7, 5.1, 1.9],\n",
              "        [6.8, 3.2, 5.9, 2.3],\n",
              "        [6.7, 3.3, 5.7, 2.5],\n",
              "        [6.7, 3. , 5.2, 2.3],\n",
              "        [6.3, 2.5, 5. , 1.9],\n",
              "        [6.5, 3. , 5.2, 2. ],\n",
              "        [6.2, 3.4, 5.4, 2.3],\n",
              "        [5.9, 3. , 5.1, 1.8]]),\n",
              " 'data_module': 'sklearn.datasets.data',\n",
              " 'feature_names': ['sepal length (cm)',\n",
              "  'sepal width (cm)',\n",
              "  'petal length (cm)',\n",
              "  'petal width (cm)'],\n",
              " 'filename': 'iris.csv',\n",
              " 'frame': None,\n",
              " 'target': array([0, 0, 0, 0, 0, 0, 0, 0, 0, 0, 0, 0, 0, 0, 0, 0, 0, 0, 0, 0, 0, 0,\n",
              "        0, 0, 0, 0, 0, 0, 0, 0, 0, 0, 0, 0, 0, 0, 0, 0, 0, 0, 0, 0, 0, 0,\n",
              "        0, 0, 0, 0, 0, 0, 1, 1, 1, 1, 1, 1, 1, 1, 1, 1, 1, 1, 1, 1, 1, 1,\n",
              "        1, 1, 1, 1, 1, 1, 1, 1, 1, 1, 1, 1, 1, 1, 1, 1, 1, 1, 1, 1, 1, 1,\n",
              "        1, 1, 1, 1, 1, 1, 1, 1, 1, 1, 1, 1, 2, 2, 2, 2, 2, 2, 2, 2, 2, 2,\n",
              "        2, 2, 2, 2, 2, 2, 2, 2, 2, 2, 2, 2, 2, 2, 2, 2, 2, 2, 2, 2, 2, 2,\n",
              "        2, 2, 2, 2, 2, 2, 2, 2, 2, 2, 2, 2, 2, 2, 2, 2, 2, 2]),\n",
              " 'target_names': array(['setosa', 'versicolor', 'virginica'], dtype='<U10')}"
            ]
          },
          "metadata": {},
          "execution_count": 82
        }
      ]
    },
    {
      "cell_type": "code",
      "source": [
        "# Let's look at petal length and width\n",
        "X = iris.data[:, 2:4]\n",
        "\n",
        "# Plot the data\n",
        "fig, ax = plt.subplots()\n",
        "for lbl,name in enumerate(iris.target_names):\n",
        "  ax.scatter(X[(iris.target==lbl),0], X[(iris.target==lbl),1],\n",
        "             label=name)\n",
        "\n",
        "ax.legend(title='Species')\n",
        "ax.set_xlabel('Petal Length')\n",
        "ax.set_ylabel('Petal Width')\n",
        "plt.show()"
      ],
      "metadata": {
        "colab": {
          "base_uri": "https://localhost:8080/",
          "height": 279
        },
        "id": "meIM_DTzpVsR",
        "outputId": "20afa9b5-c197-43f0-90a7-49895231ee16"
      },
      "execution_count": 83,
      "outputs": [
        {
          "output_type": "display_data",
          "data": {
            "text/plain": [
              "<Figure size 432x288 with 1 Axes>"
            ],
            "image/png": "[encoded data removed]"
          },
          "metadata": {
            "needs_background": "light"
          }
        }
      ]
    },
    {
      "cell_type": "code",
      "source": [
        "# Binary targets: it's either Setosa or not\n",
        "y = (iris.target == 0).astype(int)"
      ],
      "metadata": {
        "id": "-x-6pc-vqne6"
      },
      "execution_count": 84,
      "outputs": []
    },
    {
      "cell_type": "code",
      "source": [
        "# Create a Perceptron from Scikit-Learn and use it to predict setosa\n",
        "is_setosa = Perceptron()\n",
        "is_setosa.fit(X,y)\n",
        "\n",
        "y_pred = is_setosa.predict([[3.,1.]])\n",
        "y_pred.astype(bool)"
      ],
      "metadata": {
        "colab": {
          "base_uri": "https://localhost:8080/"
        },
        "id": "AqrjoS0Mq34r",
        "outputId": "6e712cd8-1280-4fe2-a5f6-ba99fe942345"
      },
      "execution_count": 85,
      "outputs": [
        {
          "output_type": "execute_result",
          "data": {
            "text/plain": [
              "array([False])"
            ]
          },
          "metadata": {},
          "execution_count": 85
        }
      ]
    },
    {
      "cell_type": "markdown",
      "source": [
        "## Linear Regression Example\n",
        "\n",
        "The petal length versus width appears to be linear. This can also be approximated with a simple network."
      ],
      "metadata": {
        "id": "AtwDfg1OhZax"
      }
    },
    {
      "cell_type": "code",
      "source": [
        "from sklearn import linear_model\n",
        "petal_regression = linear_model.LinearRegression()\n",
        "\n",
        "x_linreg = X[:,0].reshape(-1,1)\n",
        "y_linreg = X[:,1].reshape(-1,1)\n",
        "\n",
        "petal_regression.fit(x_linreg,y_linreg)\n",
        "\n",
        "new_X = np.linspace(1,7).reshape(-1,1)\n",
        "new_Y = petal_regression.predict(new_X)\n",
        "\n",
        "print(\"Coefficient: \", petal_regression.coef_)\n",
        "print(\"Intercept: \", petal_regression.intercept_)\n",
        "\n",
        "# Plot the data\n",
        "fig, ax = plt.subplots()\n",
        "for lbl,name in enumerate(iris.target_names):\n",
        "  ax.scatter(X[(iris.target==lbl),0], X[(iris.target==lbl),1],\n",
        "             label=name)\n",
        "\n",
        "ax.legend(title='Species')\n",
        "ax.set_xlabel('Petal Length')\n",
        "ax.set_ylabel('Petal Width')\n",
        "\n",
        "ax.plot(new_X, new_Y)\n",
        "plt.show()\n"
      ],
      "metadata": {
        "colab": {
          "base_uri": "https://localhost:8080/",
          "height": 315
        },
        "id": "kkgh6bgPhieZ",
        "outputId": "9099311a-4ad5-46ab-8143-c3f684eff6cf"
      },
      "execution_count": 86,
      "outputs": [
        {
          "output_type": "stream",
          "name": "stdout",
          "text": [
            "Coefficient:  [[0.41575542]]\n",
            "Intercept:  [-0.36307552]\n"
          ]
        },
        {
          "output_type": "display_data",
          "data": {
            "text/plain": [
              "<Figure size 432x288 with 1 Axes>"
            ],
            "image/png": "[encoded data removed]"
          },
          "metadata": {
            "needs_background": "light"
          }
        }
      ]
    },
    {
      "cell_type": "markdown",
      "source": [
        "## Full Classification Example (Keras)\n",
        "\n",
        "A neural network comprises many artificial neurons like the perceptron. The neurons are orgainized by layer. The outputs from one layer are appropriately modified and passed as inputs to the next layer. Each layer is optimized using techniques such as gradient descent.\n",
        "\n"
      ],
      "metadata": {
        "id": "AkjPx3Znhi06"
      }
    },
    {
      "cell_type": "code",
      "source": [
        "import sklearn\n",
        "mnist = keras.datasets.mnist\n",
        "(X_train_full, y_train_full), (X_test, y_test) = mnist.load_data()\n",
        "\n",
        "# Rescale the data\n",
        "X_train_full = X_train_full /255.0 \n",
        "y_train_full = y_train_full / 255.0 \n",
        "X_test = X_test / 255.0 \n",
        "y_test = y_test / 255.0 \n",
        "\n",
        "print(\"Train Image Array Shape: \", np.shape(X_train_full))\n",
        "print(\"Train Label Array Shape: \", np.shape(y_train_full))\n",
        "\n",
        "#---\n",
        "# View the Test Data Here\n",
        "#---\n",
        "\n",
        "img_samples = np.random.randint(0, high=len(X_train_full), size=9)\n",
        "\n",
        "fig,ax = plt.subplots(3,3)\n",
        "\n",
        "for n in range(9):\n",
        "  ind = np.unravel_index(n, (3,3))\n",
        "  img = X_train_full[img_samples[n]]\n",
        "  ax[ind].imshow(img)\n",
        "\n",
        "plt.show()"
      ],
      "metadata": {
        "colab": {
          "base_uri": "https://localhost:8080/",
          "height": 304
        },
        "id": "L5SPDw8bhq_U",
        "outputId": "f8eecb1f-6fcf-4fef-9a26-45d401cdef89"
      },
      "execution_count": 136,
      "outputs": [
        {
          "output_type": "stream",
          "name": "stdout",
          "text": [
            "Train Image Array Shape:  (60000, 28, 28)\n",
            "Train Label Array Shape:  (60000,)\n"
          ]
        },
        {
          "output_type": "display_data",
          "data": {
            "text/plain": [
              "<Figure size 432x288 with 9 Axes>"
            ],
            "image/png": "[encoded data removed]"
          },
          "metadata": {
            "needs_background": "light"
          }
        }
      ]
    },
    {
      "cell_type": "code",
      "source": [
        "from sklearn.model_selection import train_test_split\n",
        "\n",
        "TRAIN_SPLIT = 0.66\n",
        "X_train, X_val, y_train, y_val = train_test_split(X_train_full, y_train_full,\n",
        "                                                  train_size=TRAIN_SPLIT)\n",
        "\n",
        "# CHECK the size of the arrays like above\n"
      ],
      "metadata": {
        "id": "9Ar_3kkTNR2t"
      },
      "execution_count": 130,
      "outputs": []
    },
    {
      "cell_type": "markdown",
      "source": [
        "### Build the Keras Model\n",
        "\n",
        "The Sequential model is a common model to start with. It assumes a linear sequence of layers like a pipline."
      ],
      "metadata": {
        "id": "94_AfLVITb0Y"
      }
    },
    {
      "cell_type": "code",
      "source": [
        "# Create an instance of the model to build on\n",
        "model = keras.models.Sequential([\n",
        "  # Add the input layer. In this scenario we will just flatten the image array\n",
        "  keras.layers.Flatten(input_shape=[28,28]),\n",
        "  # Change the size of the first layer\n",
        "  keras.layers.Dense( 300, activation='relu'),\n",
        "  #Try More layers\n",
        "  keras.layers.Dense(10, activation='softmax')\n",
        "])"
      ],
      "metadata": {
        "id": "t-SEhkXfUB-u"
      },
      "execution_count": 139,
      "outputs": []
    },
    {
      "cell_type": "markdown",
      "source": [
        "### Review the model\n",
        "\n",
        "It is important to look at your model after building it. Some useful functions are `model.summary()` and `model.layers`."
      ],
      "metadata": {
        "id": "CDYaEfBJZD_w"
      }
    },
    {
      "cell_type": "code",
      "source": [
        "model.summary()"
      ],
      "metadata": {
        "id": "vsB0D7pCaAQG",
        "outputId": "62b73028-be02-48f7-c2a4-b68e19567b0b",
        "colab": {
          "base_uri": "https://localhost:8080/"
        }
      },
      "execution_count": 140,
      "outputs": [
        {
          "output_type": "stream",
          "name": "stdout",
          "text": [
            "Model: \"sequential\"\n",
            "_________________________________________________________________\n",
            " Layer (type)                Output Shape              Param #   \n",
            "=================================================================\n",
            " flatten_1 (Flatten)         (None, 784)               0         \n",
            "                                                                 \n",
            " dense_2 (Dense)             (None, 300)               235500    \n",
            "                                                                 \n",
            " dense_3 (Dense)             (None, 10)                3010      \n",
            "                                                                 \n",
            "=================================================================\n",
            "Total params: 238,510\n",
            "Trainable params: 238,510\n",
            "Non-trainable params: 0\n",
            "_________________________________________________________________\n"
          ]
        }
      ]
    },
    {
      "cell_type": "code",
      "source": [
        "for l in model.layers:\n",
        "  print(l.name, \" weights: \", l.get_weights())"
      ],
      "metadata": {
        "id": "1Cw1YtLxaB4G",
        "outputId": "0f78561b-520e-4916-ea49-2f984409117a",
        "colab": {
          "base_uri": "https://localhost:8080/"
        }
      },
      "execution_count": 143,
      "outputs": [
        {
          "output_type": "stream",
          "name": "stdout",
          "text": [
            "flatten_1  weights:  []\n",
            "dense_2  weights:  [array([[ 0.01235942,  0.06640832, -0.03535594, ...,  0.02218101,\n",
            "        -0.06762867,  0.04931583],\n",
            "       [-0.04247702, -0.00752693,  0.05345863, ..., -0.00912352,\n",
            "        -0.06572643, -0.02037535],\n",
            "       [-0.05068287,  0.04865623,  0.00770257, ...,  0.03368135,\n",
            "        -0.07191508, -0.05381608],\n",
            "       ...,\n",
            "       [-0.0628841 ,  0.00203888, -0.04890215, ...,  0.00831627,\n",
            "         0.06184739,  0.00391573],\n",
            "       [-0.00906406, -0.05257007,  0.01855447, ..., -0.00089878,\n",
            "        -0.05637714,  0.00448778],\n",
            "       [ 0.05964394, -0.01645798,  0.02616243, ...,  0.00187292,\n",
            "        -0.03752936,  0.07351264]], dtype=float32), array([0., 0., 0., 0., 0., 0., 0., 0., 0., 0., 0., 0., 0., 0., 0., 0., 0.,\n",
            "       0., 0., 0., 0., 0., 0., 0., 0., 0., 0., 0., 0., 0., 0., 0., 0., 0.,\n",
            "       0., 0., 0., 0., 0., 0., 0., 0., 0., 0., 0., 0., 0., 0., 0., 0., 0.,\n",
            "       0., 0., 0., 0., 0., 0., 0., 0., 0., 0., 0., 0., 0., 0., 0., 0., 0.,\n",
            "       0., 0., 0., 0., 0., 0., 0., 0., 0., 0., 0., 0., 0., 0., 0., 0., 0.,\n",
            "       0., 0., 0., 0., 0., 0., 0., 0., 0., 0., 0., 0., 0., 0., 0., 0., 0.,\n",
            "       0., 0., 0., 0., 0., 0., 0., 0., 0., 0., 0., 0., 0., 0., 0., 0., 0.,\n",
            "       0., 0., 0., 0., 0., 0., 0., 0., 0., 0., 0., 0., 0., 0., 0., 0., 0.,\n",
            "       0., 0., 0., 0., 0., 0., 0., 0., 0., 0., 0., 0., 0., 0., 0., 0., 0.,\n",
            "       0., 0., 0., 0., 0., 0., 0., 0., 0., 0., 0., 0., 0., 0., 0., 0., 0.,\n",
            "       0., 0., 0., 0., 0., 0., 0., 0., 0., 0., 0., 0., 0., 0., 0., 0., 0.,\n",
            "       0., 0., 0., 0., 0., 0., 0., 0., 0., 0., 0., 0., 0., 0., 0., 0., 0.,\n",
            "       0., 0., 0., 0., 0., 0., 0., 0., 0., 0., 0., 0., 0., 0., 0., 0., 0.,\n",
            "       0., 0., 0., 0., 0., 0., 0., 0., 0., 0., 0., 0., 0., 0., 0., 0., 0.,\n",
            "       0., 0., 0., 0., 0., 0., 0., 0., 0., 0., 0., 0., 0., 0., 0., 0., 0.,\n",
            "       0., 0., 0., 0., 0., 0., 0., 0., 0., 0., 0., 0., 0., 0., 0., 0., 0.,\n",
            "       0., 0., 0., 0., 0., 0., 0., 0., 0., 0., 0., 0., 0., 0., 0., 0., 0.,\n",
            "       0., 0., 0., 0., 0., 0., 0., 0., 0., 0., 0.], dtype=float32)]\n",
            "dense_3  weights:  [array([[ 0.01043363,  0.02567926, -0.00957717, ...,  0.01617098,\n",
            "        -0.13054043,  0.13244893],\n",
            "       [ 0.01710685, -0.06119573,  0.11220695, ...,  0.01208231,\n",
            "        -0.046949  , -0.04380994],\n",
            "       [-0.10819664, -0.09796049,  0.04879059, ..., -0.04696386,\n",
            "        -0.03877498,  0.10022429],\n",
            "       ...,\n",
            "       [ 0.07796925, -0.05115067,  0.06585315, ...,  0.06503673,\n",
            "        -0.13519733,  0.05104735],\n",
            "       [-0.02261645,  0.02754389, -0.07430283, ..., -0.10438941,\n",
            "        -0.00159311,  0.09069428],\n",
            "       [ 0.01398459,  0.11338358, -0.01294713, ..., -0.0417212 ,\n",
            "        -0.04659647, -0.09641975]], dtype=float32), array([0., 0., 0., 0., 0., 0., 0., 0., 0., 0.], dtype=float32)]\n"
          ]
        }
      ]
    },
    {
      "cell_type": "markdown",
      "source": [
        "### Compile the Model\n",
        "\n",
        "In Keras / Tensorflow, you compile the model before using it."
      ],
      "metadata": {
        "id": "hhf3mFhZaEiu"
      }
    },
    {
      "cell_type": "code",
      "source": [
        "model.compile(loss=\"sparse_categorical_crossentropy\",\n",
        "              optimizer=\"sgd\",\n",
        "              metrics=[\"accuracy\"])"
      ],
      "metadata": {
        "id": "L66KTGnLa1nd"
      },
      "execution_count": 144,
      "outputs": []
    },
    {
      "cell_type": "markdown",
      "source": [
        "### Train the Model\n",
        "\n",
        "Next you need to train the model on our training data."
      ],
      "metadata": {
        "id": "EEVo5ZBRbDtF"
      }
    },
    {
      "cell_type": "code",
      "source": [
        "history = model.fit(X_train, y_train, batch_size=10, epochs=10,\n",
        "                    validation_batch_size=10, validation_data=(X_val, y_val))"
      ],
      "metadata": {
        "id": "wWCYIMlmbNx2",
        "outputId": "2f9a7650-99ac-4480-f647-fdcede1de1b5",
        "colab": {
          "base_uri": "https://localhost:8080/"
        }
      },
      "execution_count": 146,
      "outputs": [
        {
          "output_type": "stream",
          "name": "stdout",
          "text": [
            "Epoch 1/10\n",
            "3960/3960 [==============================] - 18s 5ms/step - loss: 2.3015 - accuracy: 0.1116 - val_loss: 2.3052 - val_accuracy: 0.1140\n",
            "Epoch 2/10\n",
            "3960/3960 [==============================] - 19s 5ms/step - loss: 2.3013 - accuracy: 0.1116 - val_loss: 2.3057 - val_accuracy: 0.1140\n",
            "Epoch 3/10\n",
            "3960/3960 [==============================] - 15s 4ms/step - loss: 2.3015 - accuracy: 0.1113 - val_loss: 2.3051 - val_accuracy: 0.1140\n",
            "Epoch 4/10\n",
            "3960/3960 [==============================] - 14s 3ms/step - loss: 2.3014 - accuracy: 0.1116 - val_loss: 2.3051 - val_accuracy: 0.1140\n",
            "Epoch 5/10\n",
            "3960/3960 [==============================] - 14s 4ms/step - loss: 2.3014 - accuracy: 0.1116 - val_loss: 2.3053 - val_accuracy: 0.1140\n",
            "Epoch 6/10\n",
            "3960/3960 [==============================] - 14s 4ms/step - loss: 2.3015 - accuracy: 0.1116 - val_loss: 2.3051 - val_accuracy: 0.1140\n",
            "Epoch 7/10\n",
            "3960/3960 [==============================] - 16s 4ms/step - loss: 2.3014 - accuracy: 0.1112 - val_loss: 2.3051 - val_accuracy: 0.1140\n",
            "Epoch 8/10\n",
            "3960/3960 [==============================] - 16s 4ms/step - loss: 2.3014 - accuracy: 0.1114 - val_loss: 2.3052 - val_accuracy: 0.1039\n",
            "Epoch 9/10\n",
            "3960/3960 [==============================] - 17s 4ms/step - loss: 2.3014 - accuracy: 0.1115 - val_loss: 2.3054 - val_accuracy: 0.1140\n",
            "Epoch 10/10\n",
            "3960/3960 [==============================] - 14s 4ms/step - loss: 2.3014 - accuracy: 0.1116 - val_loss: 2.3050 - val_accuracy: 0.1140\n"
          ]
        }
      ]
    },
    {
      "cell_type": "markdown",
      "source": [
        "### Evaluate the Model on Test Data"
      ],
      "metadata": {
        "id": "Fe2i34JZbiMv"
      }
    },
    {
      "cell_type": "code",
      "source": [
        "model.evaluate(X_test, y_test)"
      ],
      "metadata": {
        "id": "orQgRiLacP6O",
        "outputId": "29d1b573-b105-4883-df2f-0f71ace25e9d",
        "colab": {
          "base_uri": "https://localhost:8080/"
        }
      },
      "execution_count": 147,
      "outputs": [
        {
          "output_type": "stream",
          "name": "stdout",
          "text": [
            "313/313 [==============================] - 1s 3ms/step - loss: 2.3460 - accuracy: 0.0000e+00\n"
          ]
        },
        {
          "output_type": "execute_result",
          "data": {
            "text/plain": [
              "[2.3459630012512207, 0.0]"
            ]
          },
          "metadata": {},
          "execution_count": 147
        }
      ]
    },
    {
      "cell_type": "markdown",
      "source": [
        "---"
      ],
      "metadata": {
        "id": "Ztx6aBQUdBtY"
      }
    },
    {
      "cell_type": "markdown",
      "source": [
        "## References\n",
        "\n",
        "Géron, Aurélien. Hands-on machine learning with Scikit-Learn, Keras, and TensorFlow: Concepts, tools, and techniques to build intelligent systems. \" O'Reilly Media, Inc.\", 2019.\n",
        "\n"
      ],
      "metadata": {
        "id": "mkIccMPJclc9"
      }
    }
  ]
}