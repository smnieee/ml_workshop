{
  "nbformat": 4,
  "nbformat_minor": 0,
  "metadata": {
    "colab": {
      "name": "1_FunWithNeuralNets.ipynb",
      "provenance": [],
      "authorship_tag": "ABX9TyPdmYbVfCxCedVDck9IhIlX",
      "include_colab_link": true
    },
    "kernelspec": {
      "name": "python3",
      "display_name": "Python 3"
    },
    "language_info": {
      "name": "python"
    }
  },
  "cells": [
    {
      "cell_type": "markdown",
      "metadata": {
        "id": "view-in-github",
        "colab_type": "text"
      },
      "source": [
        "<a href=\"https://colab.research.google.com/github/smnieee/ml_workshop/blob/master/session5/1_FunWithNeuralNets.ipynb\" target=\"_parent\"><img src=\"https://colab.research.google.com/assets/colab-badge.svg\" alt=\"Open In Colab\"/></a>"
      ]
    },
    {
      "cell_type": "markdown",
      "source": [
        "# Fun with Neural Networks\n",
        "\n",
        "---\n",
        "\n",
        "## Southern Minnesota IEEE: Machine Learning Workshop 5\n",
        "## May 16, 2022"
      ],
      "metadata": {
        "id": "-UKn9qgl30D2"
      }
    },
    {
      "cell_type": "code",
      "source": [
        "import numpy as np\n",
        "import matplotlib.pyplot as plt\n",
        "\n",
        "import tensorflow as tf\n",
        "from tensorflow import keras\n",
        "from keras import layers"
      ],
      "metadata": {
        "id": "Log2GKaW5_nC"
      },
      "execution_count": null,
      "outputs": []
    },
    {
      "cell_type": "markdown",
      "source": [
        "## Simple Perceptron Example (Classification)\n",
        "\n",
        "The perceptron is the basic unit of the neural network. It takes multiple inputs and produces one output. The inputs are adjusted with weights, $w$, and biases, $b$. The output is a result of an activation function being applied to the sum of the adjusted inputs."
      ],
      "metadata": {
        "id": "qd-xcjyQf66G"
      }
    },
    {
      "cell_type": "code",
      "source": [
        "from sklearn.datasets import load_iris\n",
        "from sklearn.linear_model import Perceptron"
      ],
      "metadata": {
        "id": "5bynavb6ZMwd"
      },
      "execution_count": null,
      "outputs": []
    },
    {
      "cell_type": "code",
      "source": [
        "# Load data and view them\n",
        "iris = load_iris()\n",
        "\n",
        "iris"
      ],
      "metadata": {
        "id": "biUXKSXMo021"
      },
      "execution_count": null,
      "outputs": []
    },
    {
      "cell_type": "code",
      "source": [
        "# Let's look at petal length and width\n",
        "X = iris.data[:, 2:4]\n",
        "\n",
        "# Plot the data\n",
        "fig, ax = plt.subplots()\n",
        "for lbl,name in enumerate(iris.target_names):\n",
        "  ax.scatter(X[(iris.target==lbl),0], X[(iris.target==lbl),1],\n",
        "             label=name)\n",
        "\n",
        "ax.legend(title='Species')\n",
        "ax.set_xlabel('Petal Length')\n",
        "ax.set_ylabel('Petal Width')\n",
        "plt.show()"
      ],
      "metadata": {
        "id": "meIM_DTzpVsR"
      },
      "execution_count": null,
      "outputs": []
    },
    {
      "cell_type": "code",
      "source": [
        "# Binary targets: it's either Setosa or not\n",
        "y = (iris.target == 0).astype(int)"
      ],
      "metadata": {
        "id": "-x-6pc-vqne6"
      },
      "execution_count": null,
      "outputs": []
    },
    {
      "cell_type": "code",
      "source": [
        "# Create a Perceptron from Scikit-Learn and use it to predict setosa\n",
        "is_setosa = Perceptron()\n",
        "is_setosa.fit(X,y)\n",
        "\n",
        "y_pred = is_setosa.predict([[3.,1.]])\n",
        "y_pred.astype(bool)"
      ],
      "metadata": {
        "id": "AqrjoS0Mq34r"
      },
      "execution_count": null,
      "outputs": []
    },
    {
      "cell_type": "markdown",
      "source": [
        "## Linear Regression Example\n",
        "\n",
        "The petal length versus width appears to be linear. This can also be approximated with a simple network."
      ],
      "metadata": {
        "id": "AtwDfg1OhZax"
      }
    },
    {
      "cell_type": "code",
      "source": [
        "from sklearn import linear_model\n",
        "petal_regression = linear_model.LinearRegression()\n",
        "\n",
        "x_linreg = X[:,0].reshape(-1,1)\n",
        "y_linreg = X[:,1].reshape(-1,1)\n",
        "\n",
        "petal_regression.fit(x_linreg,y_linreg)\n",
        "\n",
        "new_X = np.linspace(1,7).reshape(-1,1)\n",
        "new_Y = petal_regression.predict(new_X)\n",
        "\n",
        "print(\"Coefficient: \", petal_regression.coef_)\n",
        "print(\"Intercept: \", petal_regression.intercept_)\n",
        "\n",
        "# Plot the data\n",
        "fig, ax = plt.subplots()\n",
        "for lbl,name in enumerate(iris.target_names):\n",
        "  ax.scatter(X[(iris.target==lbl),0], X[(iris.target==lbl),1],\n",
        "             label=name)\n",
        "\n",
        "ax.legend(title='Species')\n",
        "ax.set_xlabel('Petal Length')\n",
        "ax.set_ylabel('Petal Width')\n",
        "\n",
        "ax.plot(new_X, new_Y)\n",
        "plt.show()\n"
      ],
      "metadata": {
        "id": "kkgh6bgPhieZ"
      },
      "execution_count": null,
      "outputs": []
    },
    {
      "cell_type": "markdown",
      "source": [
        "## Full Classification Example (Keras)\n",
        "\n",
        "A neural network comprises many artificial neurons like the perceptron. The neurons are orgainized by layer. The outputs from one layer are appropriately modified and passed as inputs to the next layer. Each layer is optimized using techniques such as gradient descent.\n",
        "\n"
      ],
      "metadata": {
        "id": "AkjPx3Znhi06"
      }
    },
    {
      "cell_type": "code",
      "source": [
        "import sklearn\n",
        "mnist = keras.datasets.mnist\n",
        "(X_train_full, y_train_full), (X_test, y_test) = mnist.load_data()\n",
        "\n",
        "# Rescale the data\n",
        "X_train_full = X_train_full /255.0 \n",
        "X_test = X_test / 255.0 \n",
        "\n",
        "print(\"Train Image Array Shape: \", np.shape(X_train_full))\n",
        "print(\"Train Label Array Shape: \", np.shape(y_train_full))\n",
        "\n",
        "#---\n",
        "# View the Test Data Here\n",
        "#---\n",
        "\n",
        "img_samples = np.random.randint(0, high=len(X_train_full), size=9)\n",
        "\n",
        "fig,ax = plt.subplots(3,3)\n",
        "\n",
        "for n in range(9):\n",
        "  ind = np.unravel_index(n, (3,3))\n",
        "  img = X_train_full[img_samples[n]]\n",
        "  ax[ind].imshow(img)\n",
        "\n",
        "plt.show()"
      ],
      "metadata": {
        "id": "L5SPDw8bhq_U"
      },
      "execution_count": null,
      "outputs": []
    },
    {
      "cell_type": "code",
      "source": [
        "from sklearn.model_selection import train_test_split\n",
        "\n",
        "TRAIN_SPLIT = 0.66\n",
        "X_train, X_val, y_train, y_val = train_test_split(X_train_full, y_train_full,\n",
        "                                                  train_size=TRAIN_SPLIT)\n",
        "\n",
        "# CHECK the size of the arrays like above\n"
      ],
      "metadata": {
        "id": "9Ar_3kkTNR2t"
      },
      "execution_count": null,
      "outputs": []
    },
    {
      "cell_type": "markdown",
      "source": [
        "### Build the Keras Model\n",
        "\n",
        "The Sequential model is a common model to start with. It assumes a linear sequence of layers like a pipline."
      ],
      "metadata": {
        "id": "94_AfLVITb0Y"
      }
    },
    {
      "cell_type": "code",
      "source": [
        "# Create an instance of the model to build on\n",
        "model = keras.models.Sequential([\n",
        "  # Add the input layer. In this scenario we will just flatten the image array\n",
        "  keras.layers.Flatten(input_shape=[28,28]),\n",
        "  # Change the size of the first layer\n",
        "  keras.layers.Dense(100, activation='relu'),\n",
        "  #Try More layers\n",
        "  keras.layers.Dense(10, activation='softmax')\n",
        "])"
      ],
      "metadata": {
        "id": "t-SEhkXfUB-u"
      },
      "execution_count": null,
      "outputs": []
    },
    {
      "cell_type": "markdown",
      "source": [
        "### Review the model\n",
        "\n",
        "It is important to look at your model after building it. Some useful functions are `model.summary()` and `model.layers`."
      ],
      "metadata": {
        "id": "CDYaEfBJZD_w"
      }
    },
    {
      "cell_type": "code",
      "source": [
        "model.summary()"
      ],
      "metadata": {
        "id": "vsB0D7pCaAQG"
      },
      "execution_count": null,
      "outputs": []
    },
    {
      "cell_type": "code",
      "source": [
        "for l in model.layers:\n",
        "  print(l.name, \" weights: \", l.get_weights())"
      ],
      "metadata": {
        "id": "1Cw1YtLxaB4G"
      },
      "execution_count": null,
      "outputs": []
    },
    {
      "cell_type": "markdown",
      "source": [
        "### Compile the Model\n",
        "\n",
        "In Keras / Tensorflow, you compile the model before using it."
      ],
      "metadata": {
        "id": "hhf3mFhZaEiu"
      }
    },
    {
      "cell_type": "code",
      "source": [
        "model.compile(loss=\"sparse_categorical_crossentropy\",\n",
        "              optimizer=\"sgd\",\n",
        "              metrics=[\"accuracy\"])"
      ],
      "metadata": {
        "id": "L66KTGnLa1nd"
      },
      "execution_count": null,
      "outputs": []
    },
    {
      "cell_type": "markdown",
      "source": [
        "### Train the Model\n",
        "\n",
        "Next you need to train the model on our training data."
      ],
      "metadata": {
        "id": "EEVo5ZBRbDtF"
      }
    },
    {
      "cell_type": "code",
      "source": [
        "history = model.fit(X_train, y_train, epochs=10,\n",
        "                    validation_data=(X_val, y_val))"
      ],
      "metadata": {
        "id": "wWCYIMlmbNx2"
      },
      "execution_count": null,
      "outputs": []
    },
    {
      "cell_type": "code",
      "source": [
        "import pandas as pd\n",
        "\n",
        "pd.DataFrame(history.history).plot()\n",
        "plt.show()"
      ],
      "metadata": {
        "id": "KrmgOIr0dbL-"
      },
      "execution_count": null,
      "outputs": []
    },
    {
      "cell_type": "markdown",
      "source": [
        "### Evaluate the Model on Test Data"
      ],
      "metadata": {
        "id": "Fe2i34JZbiMv"
      }
    },
    {
      "cell_type": "code",
      "source": [
        "model.evaluate(X_test, y_test)"
      ],
      "metadata": {
        "id": "orQgRiLacP6O"
      },
      "execution_count": null,
      "outputs": []
    },
    {
      "cell_type": "markdown",
      "source": [
        "---"
      ],
      "metadata": {
        "id": "Ztx6aBQUdBtY"
      }
    },
    {
      "cell_type": "markdown",
      "source": [
        "## References\n",
        "\n",
        "Géron, Aurélien. Hands-on machine learning with Scikit-Learn, Keras, and TensorFlow: Concepts, tools, and techniques to build intelligent systems. \" O'Reilly Media, Inc.\", 2019.\n",
        "\n"
      ],
      "metadata": {
        "id": "mkIccMPJclc9"
      }
    }
  ]
}